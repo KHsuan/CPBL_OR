{
 "cells": [
  {
   "cell_type": "code",
   "execution_count": 41,
   "metadata": {},
   "outputs": [],
   "source": [
    "import json\n",
    "import pandas as pd\n",
    "import gurobipy as gp\n",
    "from datetime import datetime, timedelta"
   ]
  },
  {
   "cell_type": "code",
   "execution_count": 42,
   "metadata": {},
   "outputs": [],
   "source": [
    "OBP_AVG = 0.327\n",
    "SLG_AVG = 0.365\n",
    "\n",
    "FPCT_AVG = {\n",
    "    '2': 0.992,\n",
    "    '3': 0.993,\n",
    "    '4': 0.977, \n",
    "    '5': 0.929,\n",
    "    '6': 0.964,\n",
    "    '7': 0.977,\n",
    "    '8': 0.988,\n",
    "    '9': 0.976\n",
    "}\n",
    "\n",
    "POSITION_WEIGHT = {\n",
    "    '2': {\"batting\": 0.95, \"fielding\": 1.05},\n",
    "    '3': {\"batting\": 1.21, \"fielding\": 0.83},\n",
    "    '4': {\"batting\": 0.97, \"fielding\": 1.03},\n",
    "    '5': {\"batting\": 0.96, \"fielding\": 1.04},\n",
    "    '6': {\"batting\": 0.94, \"fielding\": 1.06},\n",
    "    '7': {\"batting\": 1.02, \"fielding\": 0.98},\n",
    "    '8': {\"batting\": 1.04, \"fielding\": 0.96},\n",
    "    '9': {\"batting\": 1.17, \"fielding\": 0.85},\n",
    "}\n",
    "\n",
    "OPPONENT_WEIGHT = {\n",
    "    \"中信兄弟\": 1.15,\n",
    "    \"統一7-ELEVEn獅\": 1.11,\n",
    "    \"樂天桃猿\": 0.96, \n",
    "    \"富邦悍將\": 0.93,\n",
    "    \"味全龍\": 0.85\n",
    "}\n",
    "\n",
    "dataRoot = \"../clean/clean_all_\"\n",
    "playerRoot = \"../球員異動/\"\n",
    "\n",
    "teamNameMap = {\n",
    "    \"中信兄弟\": \"brothers\", \n",
    "    \"味全龍\": \"dragons\",\n",
    "    \"富邦悍將\": \"guardians\", \n",
    "    \"統一7-ELEVEn獅\": \"lions\",\n",
    "    \"樂天桃猿\": \"monkeys\"\n",
    "}"
   ]
  },
  {
   "cell_type": "markdown",
   "metadata": {},
   "source": [
    "### Import Data"
   ]
  },
  {
   "cell_type": "code",
   "execution_count": 43,
   "metadata": {},
   "outputs": [],
   "source": [
    "class Player:\n",
    "    def __init__(self, name, data):\n",
    "        self.name = name\n",
    "        self.data = data"
   ]
  },
  {
   "cell_type": "code",
   "execution_count": 44,
   "metadata": {},
   "outputs": [],
   "source": [
    "allData = {}\n",
    "for team in teamNameMap.keys():\n",
    "    with open(dataRoot + team + \".json\", encoding=\"utf-8\") as f:\n",
    "        temp = []\n",
    "        for line in f:\n",
    "            player = json.loads(line)\n",
    "            temp.append(Player(player[\"name\"], player[\"data\"]))\n",
    "        allData[teamNameMap[team]] = temp\n",
    "\n",
    "brothers = allData[\"brothers\"]\n",
    "dragons = allData[\"dragons\"]\n",
    "guardians = allData[\"guardians\"]\n",
    "lions = allData[\"lions\"]\n",
    "monkeys = allData[\"monkeys\"]"
   ]
  },
  {
   "cell_type": "code",
   "execution_count": 45,
   "metadata": {},
   "outputs": [],
   "source": [
    "playerList = {}\n",
    "\n",
    "for team in teamNameMap.keys():\n",
    "    tempDict = pd.read_csv(playerRoot + team + \".csv\", header=0, index_col=0).to_dict()\n",
    "    tempDict = {\n",
    "        datetime.strptime(key, \"%Y-%m-%d\").date(): list(filter(lambda d: pd.isna(d) == False, list(value.values())))\n",
    "        for key, value in tempDict.items()\n",
    "    }\n",
    "    playerList[teamNameMap[team]] = tempDict"
   ]
  },
  {
   "cell_type": "code",
   "execution_count": 46,
   "metadata": {},
   "outputs": [],
   "source": [
    "def createDate(mm, dd):\n",
    "    return datetime(2022, mm, dd, 0, 0, 0).date()"
   ]
  },
  {
   "cell_type": "markdown",
   "metadata": {},
   "source": [
    "### Self-defined Variables"
   ]
  },
  {
   "cell_type": "code",
   "execution_count": 47,
   "metadata": {},
   "outputs": [],
   "source": [
    "aTeam = \"味全龍\"\n",
    "aMonth = \"May\"\n",
    "aGame = [\n",
    "    {\n",
    "        \"date\": createDate(4, 12),\n",
    "        \"field\": \"洲際\", \n",
    "        \"oppo\": \"中信兄弟\", \n",
    "        \"pitcher\": \"鄭凱文\"\n",
    "    }, \n",
    "    {\n",
    "        \"date\":createDate(4, 14), \n",
    "        \"field\": \"澄清湖\", \n",
    "        \"oppo\": \"統一7-ELEVEn獅\", \n",
    "        \"pitcher\": \"胡智為\"\n",
    "    }, \n",
    "    {\n",
    "        \"date\": createDate(4, 15), \n",
    "        \"field\": \"天母\", \n",
    "        \"oppo\": \"樂天桃猿\", \n",
    "        \"pitcher\": \"陳冠宇\"\n",
    "    }, \n",
    "    {\n",
    "        \"date\": createDate(4, 16), \n",
    "        \"field\": \"天母\", \n",
    "        \"oppo\": \"樂天桃猿\", \n",
    "        \"pitcher\": \"霸林爵\"\n",
    "    }, \n",
    "    {\n",
    "        \"date\": createDate(4, 17), \n",
    "        \"field\": \"天母\", \n",
    "        \"oppo\": \"樂天桃猿\", \n",
    "        \"pitcher\": \"王溢正\"\n",
    "    }\n",
    "]\n",
    "# aStar = [\"許基宏\", \"江坤宇\"]\n",
    "# aPotential = [\"岳東華\"]\n",
    "# aInjured = [\"周思齊\"]"
   ]
  },
  {
   "cell_type": "markdown",
   "metadata": {},
   "source": [
    "### Calculate Parameters"
   ]
  },
  {
   "cell_type": "code",
   "execution_count": 48,
   "metadata": {},
   "outputs": [],
   "source": [
    "# 比賽當天 27 人名單去除投手\n",
    "def findPlayerList(team, date):\n",
    "    minDelta = timedelta(days=100)\n",
    "    playerDay = date\n",
    "    for key in playerList[teamNameMap[aTeam]].keys():\n",
    "        if date > key:\n",
    "            break\n",
    "        if key - date < minDelta:\n",
    "            minDelta = key - date\n",
    "            playerDay = key\n",
    "    \n",
    "    withoutPitcherList = []\n",
    "    for data in allData[teamNameMap[team]]:\n",
    "        withoutPitcherList.append(data.name)\n",
    "    return list(filter(lambda d: d in withoutPitcherList, playerList[teamNameMap[team]][playerDay]))\n",
    "        "
   ]
  },
  {
   "cell_type": "code",
   "execution_count": 49,
   "metadata": {},
   "outputs": [],
   "source": [
    "# A_{ij}\n",
    "def calcA(player, pos):\n",
    "    if str(pos) in player.data[\"fielding\"][\"pos\"].keys():\n",
    "        return 1\n",
    "    else:\n",
    "        return 0"
   ]
  },
  {
   "cell_type": "code",
   "execution_count": 50,
   "metadata": {},
   "outputs": [],
   "source": [
    "# F_{ij}\n",
    "def calcF(player, pos):\n",
    "    if str(pos) in player.data[\"fielding\"][\"pos\"].keys():\n",
    "        F = float(player.data[\"fielding\"][\"pos\"][str(pos)][\"FPCT\"]) / FPCT_AVG[str(pos)]\n",
    "        if F == 1:\n",
    "            return 0.98\n",
    "        if F < 0.8:\n",
    "            return 0.8\n",
    "        # print(player.name, \"F:\", F)\n",
    "        return F\n",
    "    else:\n",
    "        return 0"
   ]
  },
  {
   "cell_type": "code",
   "execution_count": 51,
   "metadata": {},
   "outputs": [],
   "source": [
    "# B_i\n",
    "def calcOPS(OBP, SLG):\n",
    "    return OBP / OBP_AVG + SLG / SLG_AVG - 1\n",
    "\n",
    "def calcB(game, player):\n",
    "    if game[\"date\"].month == 4:\n",
    "        aMonth = \"Apr\"\n",
    "    if game[\"date\"].month == 5:\n",
    "        aMonth = \"May\"\n",
    "    if game[\"date\"].month == 6:\n",
    "        aMonth = \"Jun\"\n",
    "    aOppo = game[\"oppo\"]\n",
    "    aPitcher = game[\"pitcher\"]\n",
    "    aField = game[\"field\"]\n",
    "\n",
    "    OPSseason = float(player.data[\"batting\"][\"season\"][\"OPS+\"])\n",
    "    PAseason = int(player.data[\"batting\"][\"season\"][\"PA\"])\n",
    "    \n",
    "    if \"month\" in player.data[\"batting\"].keys():\n",
    "        if aMonth in player.data[\"batting\"][\"month\"].keys():\n",
    "            OPSmonth = calcOPS(\n",
    "                float(player.data[\"batting\"][\"month\"][aMonth][\"OBP\"]), \n",
    "                float(player.data[\"batting\"][\"month\"][aMonth][\"TB\"]) / float(player.data[\"batting\"][\"month\"][aMonth][\"AB\"])\n",
    "            )\n",
    "            PAmonth = int(player.data[\"batting\"][\"month\"][aMonth][\"PA\"])\n",
    "        else:\n",
    "            OPSmonth = OPSseason\n",
    "            PAmonth = 0\n",
    "    else:\n",
    "        OPSmonth = OPSseason\n",
    "        PAmonth = 0\n",
    "\n",
    "    if \"field\" in player.data[\"batting\"]:\n",
    "        if aField in player.data[\"batting\"][\"field\"].keys():\n",
    "            OPSfield = calcOPS(\n",
    "                float(player.data[\"batting\"][\"field\"][aField][\"OBP\"]), \n",
    "                float(player.data[\"batting\"][\"field\"][aField][\"TB\"]) / float(player.data[\"batting\"][\"field\"][aField][\"AB\"])\n",
    "            )\n",
    "            PAfield = int(player.data[\"batting\"][\"field\"][aField][\"PA\"])\n",
    "        else:\n",
    "            OPSfield = OPSseason\n",
    "            PAfield = 0\n",
    "    else:\n",
    "        OPSfield = OPSseason\n",
    "        PAfield = 0\n",
    "    \n",
    "    if \"vsP\" in player.data[\"batting\"].keys():\n",
    "        if aOppo in player.data[\"batting\"][\"vsP\"][\"data\"].keys():\n",
    "            if aPitcher in player.data[\"batting\"][\"vsP\"][\"data\"][aOppo].keys():\n",
    "                if player.data[\"batting\"][\"vsP\"][\"data\"][aOppo][aPitcher][\"AB\"] != \"0\":\n",
    "                    OPSvsp = calcOPS(\n",
    "                        float(player.data[\"batting\"][\"vsP\"][\"data\"][aOppo][aPitcher][\"OBP\"]), \n",
    "                        float(player.data[\"batting\"][\"vsP\"][\"data\"][aOppo][aPitcher][\"TB\"]) / float(player.data[\"batting\"][\"vsP\"][\"data\"][aOppo][aPitcher][\"AB\"])\n",
    "                    )\n",
    "                    PAvsp = int(player.data[\"batting\"][\"vsP\"][\"data\"][aOppo][aPitcher][\"PA\"])\n",
    "                else:\n",
    "                    OPSvsp = 0\n",
    "                    PAvsp = 0\n",
    "            else:\n",
    "                OPSvsp = 0\n",
    "                PAvsp = 0\n",
    "        else:\n",
    "            OPSvsp = OPSseason\n",
    "            PAvsp = 0\n",
    "    else:\n",
    "        OPSvsp = OPSseason\n",
    "        PAvsp = 0\n",
    "\n",
    "    B = (OPSseason * PAseason + OPSmonth * PAmonth + OPSfield * PAfield + OPSvsp * PAvsp) / 400\n",
    "    # print(player.name, B)\n",
    "    return B\n",
    "\n",
    "# V_{ij}\n",
    "def calcV(game, player, pos):\n",
    "    A = calcA(player, pos)\n",
    "    B = calcB(game, player)\n",
    "    F = calcF(player, pos)\n",
    "    # print(player.name, \"V:\", (POSITION_WEIGHT[str(pos)][\"batting\"] * B + POSITION_WEIGHT[str(pos)][\"fielding\"] * F) * A)\n",
    "    return (POSITION_WEIGHT[str(pos)][\"batting\"] * B + POSITION_WEIGHT[str(pos)][\"fielding\"] * F) * A"
   ]
  },
  {
   "cell_type": "markdown",
   "metadata": {},
   "source": [
    "### Optimization"
   ]
  },
  {
   "cell_type": "code",
   "execution_count": 52,
   "metadata": {},
   "outputs": [
    {
     "name": "stdout",
     "output_type": "stream",
     "text": [
      "Gurobi Optimizer version 9.5.1 build v9.5.1rc2 (win64)\n",
      "Thread count: 4 physical cores, 8 logical processors, using up to 8 threads\n",
      "Optimize a model with 265 rows, 600 columns and 1275 nonzeros\n",
      "Model fingerprint: 0xd1d7245d\n",
      "Variable types: 0 continuous, 600 integer (600 binary)\n",
      "Coefficient statistics:\n",
      "  Matrix range     [9e-01, 1e+00]\n",
      "  Objective range  [3e+00, 2e+02]\n",
      "  Bounds range     [1e+00, 1e+00]\n",
      "  RHS range        [1e+00, 1e+00]\n",
      "Presolve removed 150 rows and 45 columns\n",
      "Presolve time: 0.00s\n",
      "\n",
      "Explored 0 nodes (0 simplex iterations) in 0.01 seconds (0.00 work units)\n",
      "Thread count was 1 (of 8 available processors)\n",
      "\n",
      "Solution count 0\n",
      "No other solutions better than -1e+100\n",
      "\n",
      "Model is infeasible\n",
      "Best objective -, best bound -, gap -\n"
     ]
    }
   ],
   "source": [
    "model = gp.Model(\"model\")\n",
    "\n",
    "# decision variables\n",
    "x = []\n",
    "for g in range(len(aGame)):\n",
    "    todayPlayerList = findPlayerList(aTeam, aGame[g][\"date\"])\n",
    "    singleGame = {}\n",
    "    for i in range(len(todayPlayerList)):\n",
    "        singlePlayer = []\n",
    "        for j in range(2, 10):\n",
    "            singlePlayer.append(model.addVar(lb=0, vtype=\"B\", name=\"x\" + str(g) + \"-\" + todayPlayerList[i] + \"-\" + str(j)))\n",
    "        singleGame[todayPlayerList[i]] = singlePlayer\n",
    "    x.append(singleGame)\n",
    "\n",
    "# objective function\n",
    "model.setObjective(gp.quicksum(\n",
    "    gp.quicksum(\n",
    "        gp.quicksum(\n",
    "            OPPONENT_WEIGHT[aGame[g][\"oppo\"]] * calcV(aGame[g], list(filter(lambda d: d.name == thisPlayer, allData[teamNameMap[aTeam]]))[0], j) * x[g][thisPlayer][j - 2]\n",
    "            for j in range(2, 10)\n",
    "        ) for thisPlayer in findPlayerList(aTeam, aGame[g][\"date\"])\n",
    "    ) for g in range(len(aGame))\n",
    "), gp.GRB.MAXIMIZE)\n",
    "\n",
    "# constraints\n",
    "for g in range(len(aGame)):\n",
    "    todayPlayerList = findPlayerList(aTeam, aGame[g][\"date\"])\n",
    "    for thisPlayerName in todayPlayerList:\n",
    "        thisPlayer = list(filter(lambda d: d.name == thisPlayerName, allData[teamNameMap[aTeam]]))[0]\n",
    "        \n",
    "        # constraint 1\n",
    "        model.addConstr(calcF(thisPlayer, 8) * x[g][thisPlayerName][8 - 2] >= calcF(thisPlayer, 7) * x[g][thisPlayerName][7 - 2])\n",
    "        # constraint 2\n",
    "        model.addConstr(calcF(thisPlayer, 8) * x[g][thisPlayerName][8 - 2] >= calcF(thisPlayer, 9) * x[g][thisPlayerName][9 - 2])\n",
    "        \n",
    "        # constraint 4\n",
    "        model.addConstr(gp.quicksum(x[g][thisPlayerName][j - 2] for j in range(2, 10)) == 1)\n",
    "\n",
    "    for j in range(2, 10):\n",
    "        # constraint 3\n",
    "        model.addConstr(gp.quicksum(x[g][thisPlayerName][j - 2] for thisPlayerName in todayPlayerList) == 1)\n",
    "\n",
    "model.optimize()"
   ]
  },
  {
   "cell_type": "code",
   "execution_count": 53,
   "metadata": {},
   "outputs": [
    {
     "ename": "AttributeError",
     "evalue": "Unable to retrieve attribute 'x'",
     "output_type": "error",
     "traceback": [
      "\u001b[1;31m---------------------------------------------------------------------------\u001b[0m",
      "\u001b[1;31mAttributeError\u001b[0m                            Traceback (most recent call last)",
      "\u001b[1;32m<ipython-input-53-861b0a45bac8>\u001b[0m in \u001b[0;36m<module>\u001b[1;34m\u001b[0m\n\u001b[0;32m      1\u001b[0m \u001b[1;32mfor\u001b[0m \u001b[0mvar\u001b[0m \u001b[1;32min\u001b[0m \u001b[0mmodel\u001b[0m\u001b[1;33m.\u001b[0m\u001b[0mgetVars\u001b[0m\u001b[1;33m(\u001b[0m\u001b[1;33m)\u001b[0m\u001b[1;33m:\u001b[0m\u001b[1;33m\u001b[0m\u001b[1;33m\u001b[0m\u001b[0m\n\u001b[1;32m----> 2\u001b[1;33m     \u001b[1;32mif\u001b[0m \u001b[0mvar\u001b[0m\u001b[1;33m.\u001b[0m\u001b[0mx\u001b[0m \u001b[1;33m!=\u001b[0m \u001b[1;36m0.0\u001b[0m\u001b[1;33m:\u001b[0m\u001b[1;33m\u001b[0m\u001b[1;33m\u001b[0m\u001b[0m\n\u001b[0m\u001b[0;32m      3\u001b[0m         \u001b[0mprint\u001b[0m\u001b[1;33m(\u001b[0m\u001b[0mvar\u001b[0m\u001b[1;33m.\u001b[0m\u001b[0mvarName\u001b[0m\u001b[1;33m,\u001b[0m \u001b[0mvar\u001b[0m\u001b[1;33m.\u001b[0m\u001b[0mx\u001b[0m\u001b[1;33m)\u001b[0m\u001b[1;33m\u001b[0m\u001b[1;33m\u001b[0m\u001b[0m\n",
      "\u001b[1;32msrc\\gurobipy\\var.pxi\u001b[0m in \u001b[0;36mgurobipy.Var.__getattr__\u001b[1;34m()\u001b[0m\n",
      "\u001b[1;32msrc\\gurobipy\\var.pxi\u001b[0m in \u001b[0;36mgurobipy.Var.getAttr\u001b[1;34m()\u001b[0m\n",
      "\u001b[1;32msrc\\gurobipy\\attrutil.pxi\u001b[0m in \u001b[0;36mgurobipy.__getattr\u001b[1;34m()\u001b[0m\n",
      "\u001b[1;31mAttributeError\u001b[0m: Unable to retrieve attribute 'x'"
     ]
    }
   ],
   "source": [
    "for var in model.getVars():\n",
    "    if var.x != 0.0:\n",
    "        print(var.varName, var.x)"
   ]
  }
 ],
 "metadata": {
  "interpreter": {
   "hash": "263930470851f494f0ed2879c35b57985588df20f9e529b86e97dd5eb9ddc466"
  },
  "kernelspec": {
   "display_name": "Python 3.8.5 ('base')",
   "language": "python",
   "name": "python3"
  },
  "language_info": {
   "codemirror_mode": {
    "name": "ipython",
    "version": 3
   },
   "file_extension": ".py",
   "mimetype": "text/x-python",
   "name": "python",
   "nbconvert_exporter": "python",
   "pygments_lexer": "ipython3",
   "version": "3.8.5"
  },
  "orig_nbformat": 4
 },
 "nbformat": 4,
 "nbformat_minor": 2
}
