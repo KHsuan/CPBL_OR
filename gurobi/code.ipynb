{
 "cells": [
  {
   "cell_type": "code",
   "execution_count": 17,
   "metadata": {},
   "outputs": [],
   "source": [
    "import json\n",
    "import csv\n",
    "import pandas as pd\n",
    "import gurobipy as gp\n",
    "from datetime import datetime"
   ]
  },
  {
   "cell_type": "code",
   "execution_count": 2,
   "metadata": {},
   "outputs": [],
   "source": [
    "OBP_AVG = 0.327\n",
    "SLG_AVG = 0.365\n",
    "\n",
    "FPCT_AVG = {\n",
    "    '2': 0.992,\n",
    "    '3': 0.993,\n",
    "    '4': 0.977, \n",
    "    '5': 0.929,\n",
    "    '6': 0.964,\n",
    "    '7': 0.977,\n",
    "    '8': 0.988,\n",
    "    '9': 0.976\n",
    "}\n",
    "\n",
    "POSITION_WEIGHT = {\n",
    "    '2': {\"batting\": 0.95, \"fielding\": 1.05},\n",
    "    '3': {\"batting\": 1.21, \"fielding\": 0.83},\n",
    "    '4': {\"batting\": 0.97, \"fielding\": 1.03},\n",
    "    '5': {\"batting\": 0.96, \"fielding\": 1.04},\n",
    "    '6': {\"batting\": 0.94, \"fielding\": 1.06},\n",
    "    '7': {\"batting\": 1.02, \"fielding\": 0.98},\n",
    "    '8': {\"batting\": 1.04, \"fielding\": 0.96},\n",
    "    '9': {\"batting\": 1.17, \"fielding\": 0.85},\n",
    "}\n",
    "\n",
    "OPPONENT_WEIGHT = {\n",
    "    \"brothers\": 1.15,\n",
    "    \"lions\": 1.11,\n",
    "    \"monkeys\": 0.96, \n",
    "    \"guardians\": 0.93,\n",
    "    \"dragons\": 0.85\n",
    "}\n",
    "\n",
    "dataRoot = \"../clean/clean_all_\"\n",
    "playerRoot = \"../球員異動/\"\n",
    "\n",
    "teamNameMap = {\n",
    "    \"中信兄弟\": \"brothers\", \n",
    "    \"味全龍\": \"dragons\",\n",
    "    \"富邦悍將\": \"guardians\", \n",
    "    \"統一7-ELEVEn獅\": \"lions\",\n",
    "    \"樂天桃猿\": \"monkeys\"\n",
    "}"
   ]
  },
  {
   "cell_type": "markdown",
   "metadata": {},
   "source": [
    "### Import Data"
   ]
  },
  {
   "cell_type": "code",
   "execution_count": null,
   "metadata": {},
   "outputs": [],
   "source": [
    "class Player:\n",
    "    def __init__(self, name, data):\n",
    "        self.name = name\n",
    "        self.data = data\n",
    "\n",
    "        # A_{ij}\n",
    "        canPlay = []\n",
    "        for i in range(9):\n",
    "            if (i + 1) in data[\"fielding\"][\"pos\"]:\n",
    "                canPlay.append(1)\n",
    "            else:\n",
    "                canPlay.append(0)\n",
    "        self.canPlay = canPlay\n",
    "\n",
    "        # F_{ij}\n",
    "        F = {}\n",
    "        for i in data[\"fielding\"][\"pos\"]:\n",
    "            F[str(i)] = float(data[\"fielding\"][\"FPCT\"][str(i)]) / FPCT_AVG[str(i)]\n",
    "            if F[str(i)] == 1:\n",
    "                F[str(i)] = 0.98\n",
    "            if F[str(i)] < 0.8:\n",
    "                F[str(i)] = 0.8\n",
    "        self.F = F"
   ]
  },
  {
   "cell_type": "code",
   "execution_count": null,
   "metadata": {},
   "outputs": [],
   "source": [
    "allData = {}\n",
    "for team in teamNameMap.keys():\n",
    "    with open(dataRoot + team + \".json\", encoding=\"utf-8\") as f:\n",
    "        temp = []\n",
    "        for line in f:\n",
    "            player = json.loads(line)\n",
    "            temp.append(Player(player[\"name\"], player[\"data\"]))\n",
    "        allData[teamNameMap[team]] = temp\n",
    "\n",
    "brothers = allData[\"brothers\"]\n",
    "dragons = allData[\"dragons\"]\n",
    "guardians = allData[\"guardians\"]\n",
    "lions = allData[\"lions\"]\n",
    "monkeys = allData[\"monkeys\"]"
   ]
  },
  {
   "cell_type": "code",
   "execution_count": 39,
   "metadata": {},
   "outputs": [],
   "source": [
    "playerList = {}\n",
    "\n",
    "for team in teamNameMap.keys():\n",
    "    tempDict = pd.read_csv(playerRoot + team + \".csv\", header=0, index_col=0).to_dict()\n",
    "    for key in tempDict.keys():\n",
    "        tempDict[key] = list(filter(lambda d: pd.isna(d) == False, list(tempDict[key].values())))\n",
    "        key = datetime.strptime(key, \"%Y-%m-%d\").date()\n",
    "    playerList[teamNameMap[team]] = tempDict"
   ]
  },
  {
   "cell_type": "code",
   "execution_count": 37,
   "metadata": {},
   "outputs": [],
   "source": [
    "def createDate(mm, dd):\n",
    "    return datetime(2022, mm, dd, 0, 0, 0).date()"
   ]
  },
  {
   "cell_type": "markdown",
   "metadata": {},
   "source": [
    "### Self-defined Parameters"
   ]
  },
  {
   "cell_type": "code",
   "execution_count": null,
   "metadata": {},
   "outputs": [],
   "source": [
    "aTeam = \"中信兄弟\"\n",
    "aMonth = \"May\"\n",
    "aDate = [createDate(5, 3), createDate(5, 5), createDate(5, 6), createDate(5, 7), createDate(5, 8)]\n",
    "aField = [\"新莊\", \"澄清湖\", \"洲際\", \"洲際\", \"洲際\"]\n",
    "aOppo = [\"富邦悍將\", \"味全龍\", \"統一7-ELEVEn獅\", \"統一7-ELEVEn獅\", \"統一7-ELEVEn獅\"]\n",
    "aPitcher = [\"陳鴻文\", \"王維中\", \"江辰晏\", \"李其峰\", \"邱浩鈞\"]\n",
    "aStar = [\"許基宏\", \"江坤宇\"]\n",
    "aPotential = [\"岳東華\"]\n",
    "aInjured = [\"周思齊\"]"
   ]
  },
  {
   "cell_type": "markdown",
   "metadata": {},
   "source": [
    "### Optimization"
   ]
  },
  {
   "cell_type": "code",
   "execution_count": null,
   "metadata": {},
   "outputs": [],
   "source": [
    "# model = gp.Model(\"model\")\n",
    "# for i in range()\n",
    "# x.append(p1.addVar(lb=0, vtype=\"C\", name=\"x\" + str(i)))\n"
   ]
  }
 ],
 "metadata": {
  "interpreter": {
   "hash": "263930470851f494f0ed2879c35b57985588df20f9e529b86e97dd5eb9ddc466"
  },
  "kernelspec": {
   "display_name": "Python 3.8.5 ('base')",
   "language": "python",
   "name": "python3"
  },
  "language_info": {
   "codemirror_mode": {
    "name": "ipython",
    "version": 3
   },
   "file_extension": ".py",
   "mimetype": "text/x-python",
   "name": "python",
   "nbconvert_exporter": "python",
   "pygments_lexer": "ipython3",
   "version": "3.8.5"
  },
  "orig_nbformat": 4
 },
 "nbformat": 4,
 "nbformat_minor": 2
}
