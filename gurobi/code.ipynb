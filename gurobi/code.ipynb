{
 "cells": [
  {
   "cell_type": "code",
   "execution_count": 49,
   "metadata": {},
   "outputs": [],
   "source": [
    "import json\n",
    "import pandas as pd\n",
    "import gurobipy as gp\n",
    "from datetime import datetime, timedelta"
   ]
  },
  {
   "cell_type": "code",
   "execution_count": 50,
   "metadata": {},
   "outputs": [],
   "source": [
    "OBP_AVG = 0.327\n",
    "SLG_AVG = 0.365\n",
    "\n",
    "FPCT_AVG = {\n",
    "    '2': 0.992,\n",
    "    '3': 0.993,\n",
    "    '4': 0.977, \n",
    "    '5': 0.929,\n",
    "    '6': 0.964,\n",
    "    '7': 0.977,\n",
    "    '8': 0.988,\n",
    "    '9': 0.976\n",
    "}\n",
    "\n",
    "POSITION_WEIGHT = {\n",
    "    '2': {\"batting\": 0.95, \"fielding\": 1.05},\n",
    "    '3': {\"batting\": 1.21, \"fielding\": 0.83},\n",
    "    '4': {\"batting\": 0.97, \"fielding\": 1.03},\n",
    "    '5': {\"batting\": 0.96, \"fielding\": 1.04},\n",
    "    '6': {\"batting\": 0.94, \"fielding\": 1.06},\n",
    "    '7': {\"batting\": 1.02, \"fielding\": 0.98},\n",
    "    '8': {\"batting\": 1.04, \"fielding\": 0.96},\n",
    "    '9': {\"batting\": 1.17, \"fielding\": 0.85},\n",
    "}\n",
    "\n",
    "OPPONENT_WEIGHT = {\n",
    "    \"中信兄弟\": 1.15,\n",
    "    \"統一7-ELEVEn獅\": 1.11,\n",
    "    \"樂天桃猿\": 0.96, \n",
    "    \"富邦悍將\": 0.93,\n",
    "    \"味全龍\": 0.85\n",
    "}\n",
    "\n",
    "dataRoot = \"../clean/clean_all_\"\n",
    "playerRoot = \"../球員異動/\"\n",
    "\n",
    "teamNameMap = {\n",
    "    \"中信兄弟\": \"brothers\", \n",
    "    \"味全龍\": \"dragons\",\n",
    "    \"富邦悍將\": \"guardians\", \n",
    "    \"統一7-ELEVEn獅\": \"lions\",\n",
    "    \"樂天桃猿\": \"monkeys\"\n",
    "}"
   ]
  },
  {
   "cell_type": "markdown",
   "metadata": {},
   "source": [
    "### Import Data"
   ]
  },
  {
   "cell_type": "code",
   "execution_count": 51,
   "metadata": {},
   "outputs": [],
   "source": [
    "class Player:\n",
    "    def __init__(self, name, data):\n",
    "        self.name = name\n",
    "        self.data = data\n",
    "\n",
    "        # A_{ij}\n",
    "        canPlay = []\n",
    "        for i in range(9):\n",
    "            if (i + 1) in data[\"fielding\"][\"pos\"]:\n",
    "                canPlay.append(1)\n",
    "            else:\n",
    "                canPlay.append(0)\n",
    "        self.canPlay = canPlay\n",
    "\n",
    "        # F_{ij}\n",
    "        F = {}\n",
    "        for i in data[\"fielding\"][\"pos\"]:\n",
    "            F[str(i)] = float(data[\"fielding\"][\"FPCT\"][str(i)]) / FPCT_AVG[str(i)]\n",
    "            if F[str(i)] == 1:\n",
    "                F[str(i)] = 0.98\n",
    "            if F[str(i)] < 0.8:\n",
    "                F[str(i)] = 0.8\n",
    "        self.F = F"
   ]
  },
  {
   "cell_type": "code",
   "execution_count": 52,
   "metadata": {},
   "outputs": [],
   "source": [
    "allData = {}\n",
    "for team in teamNameMap.keys():\n",
    "    with open(dataRoot + team + \".json\", encoding=\"utf-8\") as f:\n",
    "        temp = []\n",
    "        for line in f:\n",
    "            player = json.loads(line)\n",
    "            temp.append(Player(player[\"name\"], player[\"data\"]))\n",
    "        allData[teamNameMap[team]] = temp\n",
    "\n",
    "brothers = allData[\"brothers\"]\n",
    "dragons = allData[\"dragons\"]\n",
    "guardians = allData[\"guardians\"]\n",
    "lions = allData[\"lions\"]\n",
    "monkeys = allData[\"monkeys\"]"
   ]
  },
  {
   "cell_type": "code",
   "execution_count": 53,
   "metadata": {},
   "outputs": [],
   "source": [
    "playerList = {}\n",
    "\n",
    "for team in teamNameMap.keys():\n",
    "    tempDict = pd.read_csv(playerRoot + team + \".csv\", header=0, index_col=0).to_dict()\n",
    "    tempDict = {\n",
    "        datetime.strptime(key, \"%Y-%m-%d\").date(): list(filter(lambda d: pd.isna(d) == False, list(value.values())))\n",
    "        for key, value in tempDict.items()\n",
    "    }\n",
    "    playerList[teamNameMap[team]] = tempDict"
   ]
  },
  {
   "cell_type": "code",
   "execution_count": 54,
   "metadata": {},
   "outputs": [],
   "source": [
    "def createDate(mm, dd):\n",
    "    return datetime(2022, mm, dd, 0, 0, 0).date()"
   ]
  },
  {
   "cell_type": "markdown",
   "metadata": {},
   "source": [
    "### Self-defined Parameters"
   ]
  },
  {
   "cell_type": "code",
   "execution_count": 55,
   "metadata": {},
   "outputs": [],
   "source": [
    "aTeam = \"中信兄弟\"\n",
    "aMonth = \"May\"\n",
    "aGame = [\n",
    "    {\n",
    "        \"date\": createDate(5, 3),\n",
    "        \"field\": \"新莊\", \n",
    "        \"oppo\": \"富邦悍將\", \n",
    "        \"pitcher\": \"陳鴻文\"\n",
    "    }, \n",
    "    {\n",
    "        \"date\":createDate(5, 5), \n",
    "        \"field\": \"澄清湖\", \n",
    "        \"oppo\": \"味全龍\", \n",
    "        \"pitcher\": \"王維中\"\n",
    "    }, \n",
    "    {\n",
    "        \"date\": createDate(5, 6), \n",
    "        \"field\": \"洲際\", \n",
    "        \"oppo\": \"統一7-ELEVEn獅\", \n",
    "        \"pitcher\": \"江辰晏\"\n",
    "    }, \n",
    "    {\n",
    "        \"date\": createDate(5, 7), \n",
    "        \"field\": \"洲際\", \n",
    "        \"oppo\": \"統一7-ELEVEn獅\", \n",
    "        \"pitcher\": \"李其峰\"\n",
    "    }, \n",
    "    {\n",
    "        \"date\": createDate(5, 8), \n",
    "        \"field\": \"洲際\", \n",
    "        \"oppo\": \"統一7-ELEVEn獅\", \n",
    "        \"pitcher\": \"邱浩鈞\"\n",
    "    }\n",
    "]\n",
    "aStar = [\"許基宏\", \"江坤宇\"]\n",
    "aPotential = [\"岳東華\"]\n",
    "aInjured = [\"周思齊\"]"
   ]
  },
  {
   "cell_type": "markdown",
   "metadata": {},
   "source": [
    "### Optimization"
   ]
  },
  {
   "cell_type": "code",
   "execution_count": 60,
   "metadata": {},
   "outputs": [],
   "source": [
    "# 比賽當天 27 人名單\n",
    "def findPlayerList(team, date):\n",
    "    minDelta = timedelta(days=100)\n",
    "    playerDay = date\n",
    "    for key in playerList[teamNameMap[aTeam]].keys():\n",
    "        if date > key:\n",
    "            break\n",
    "        if key - date < minDelta:\n",
    "            minDelta = key - date\n",
    "            playerDay = key\n",
    "    return playerList[teamNameMap[team]][playerDay]\n",
    "        "
   ]
  },
  {
   "cell_type": "code",
   "execution_count": 67,
   "metadata": {},
   "outputs": [],
   "source": [
    "# B_i\n",
    "def calcOPS(OBP, SLG):\n",
    "    return OBP / OBP_AVG + SLG / SLG_AVG - 1\n",
    "\n",
    "def calcB(game, player):\n",
    "    if game[\"date\"].month == 4:\n",
    "        aMonth = \"Apr\"\n",
    "    if game[\"date\"].month == 5:\n",
    "        aMonth = \"May\"\n",
    "\n",
    "    OPSseason = float(player.data[\"batting\"][\"season\"][\"OPS+\"])\n",
    "    if OPSseason > 160:\n",
    "        OPSseason = 100\n",
    "    if OPSseason < 0:\n",
    "        OPSseason = 0\n",
    "    OPSmonth = calcOPS(\n",
    "        float(player.data[\"batting\"][\"month\"][aMonth][\"OBP\"]), \n",
    "        float(player.data[\"batting\"][\"month\"][aMonth][\"TB\"]) / float(player.data[\"batting\"][\"month\"][aMonth][\"AB\"])\n",
    "    )\n",
    "    OPSfield = calcOPS(\n",
    "        float(player.data[\"batting\"][\"field\"][game[\"field\"]][\"OBP\"]), \n",
    "        float(player.data[\"batting\"][\"field\"][game[\"field\"]][\"TB\"]) / float(player.data[\"batting\"][\"field\"][game[\"field\"]][\"AB\"])\n",
    "    )\n",
    "    OBPseason = float(player.data[\"batting\"][\"season\"][\"OBP\"])\n",
    "    if OBPseason == 0:\n",
    "        OBPseason = 1\n",
    "    OBPp = float(player.data[\"batting\"][\"vsP\"][\"data\"][game[\"oppo\"]][game[\"pitcher\"]]) if player.data[\"batting\"][\"vsP\"][\"data\"][game[\"oppo\"]][game[\"pitcher\"]] != '0.000' else OBPseason\n",
    "\n",
    "    B = (OPSseason + OPSmonth + OPSfield + OBPp * 100 / OBPseason) / 400\n",
    "    return B\n",
    "\n",
    "def calcV(game, player, pos):\n",
    "    B = calcB(game, player)\n",
    "    return (POSITION_WEIGHT[str(i)][\"batting\"] * B + POSITION_WEIGHT[str(pos)][\"fielding\"] * player.F[str(pos)]) * player.canPlay"
   ]
  },
  {
   "cell_type": "code",
   "execution_count": 77,
   "metadata": {},
   "outputs": [
    {
     "ename": "IndexError",
     "evalue": "list index out of range",
     "output_type": "error",
     "traceback": [
      "\u001b[1;31m---------------------------------------------------------------------------\u001b[0m",
      "\u001b[1;31mIndexError\u001b[0m                                Traceback (most recent call last)",
      "\u001b[1;32m<ipython-input-77-2af7141f7ede>\u001b[0m in \u001b[0;36m<module>\u001b[1;34m\u001b[0m\n\u001b[0;32m     25\u001b[0m         \u001b[1;31m# for obje in todayPlayerObject:\u001b[0m\u001b[1;33m\u001b[0m\u001b[1;33m\u001b[0m\u001b[1;33m\u001b[0m\u001b[0m\n\u001b[0;32m     26\u001b[0m         \u001b[1;31m#     print(obje.name)\u001b[0m\u001b[1;33m\u001b[0m\u001b[1;33m\u001b[0m\u001b[1;33m\u001b[0m\u001b[0m\n\u001b[1;32m---> 27\u001b[1;33m         \u001b[0mthisPlayer\u001b[0m \u001b[1;33m=\u001b[0m \u001b[0mlist\u001b[0m\u001b[1;33m(\u001b[0m\u001b[0mfilter\u001b[0m\u001b[1;33m(\u001b[0m\u001b[1;32mlambda\u001b[0m \u001b[0md\u001b[0m\u001b[1;33m:\u001b[0m \u001b[0md\u001b[0m\u001b[1;33m.\u001b[0m\u001b[0mname\u001b[0m \u001b[1;33m==\u001b[0m \u001b[0mtodayPlayerList\u001b[0m\u001b[1;33m[\u001b[0m\u001b[0mi\u001b[0m\u001b[1;33m]\u001b[0m\u001b[1;33m,\u001b[0m \u001b[0mtodayPlayerObject\u001b[0m\u001b[1;33m)\u001b[0m\u001b[1;33m)\u001b[0m\u001b[1;33m[\u001b[0m\u001b[1;36m0\u001b[0m\u001b[1;33m]\u001b[0m\u001b[1;33m\u001b[0m\u001b[1;33m\u001b[0m\u001b[0m\n\u001b[0m\u001b[0;32m     28\u001b[0m         \u001b[1;32mfor\u001b[0m \u001b[0mj\u001b[0m \u001b[1;32min\u001b[0m \u001b[0mrange\u001b[0m\u001b[1;33m(\u001b[0m\u001b[1;36m9\u001b[0m\u001b[1;33m)\u001b[0m\u001b[1;33m:\u001b[0m\u001b[1;33m\u001b[0m\u001b[1;33m\u001b[0m\u001b[0m\n\u001b[0;32m     29\u001b[0m             \u001b[0msumAll\u001b[0m \u001b[1;33m+=\u001b[0m \u001b[0mOPPONENT_WEIGHT\u001b[0m\u001b[1;33m[\u001b[0m\u001b[0maGame\u001b[0m\u001b[1;33m[\u001b[0m\u001b[0mg\u001b[0m\u001b[1;33m]\u001b[0m\u001b[1;33m[\u001b[0m\u001b[1;34m\"oppo\"\u001b[0m\u001b[1;33m]\u001b[0m\u001b[1;33m]\u001b[0m \u001b[1;33m*\u001b[0m \u001b[0mcalcV\u001b[0m\u001b[1;33m(\u001b[0m\u001b[0maGame\u001b[0m\u001b[1;33m[\u001b[0m\u001b[0mg\u001b[0m\u001b[1;33m]\u001b[0m\u001b[1;33m,\u001b[0m \u001b[0mthisPlayer\u001b[0m\u001b[1;33m,\u001b[0m \u001b[0mj\u001b[0m\u001b[1;33m)\u001b[0m \u001b[1;33m*\u001b[0m \u001b[0mx\u001b[0m\u001b[1;33m[\u001b[0m\u001b[0mg\u001b[0m\u001b[1;33m]\u001b[0m\u001b[1;33m[\u001b[0m\u001b[0mi\u001b[0m\u001b[1;33m]\u001b[0m\u001b[1;33m[\u001b[0m\u001b[0mj\u001b[0m\u001b[1;33m]\u001b[0m\u001b[1;33m\u001b[0m\u001b[1;33m\u001b[0m\u001b[0m\n",
      "\u001b[1;31mIndexError\u001b[0m: list index out of range"
     ]
    }
   ],
   "source": [
    "model = gp.Model(\"model\")\n",
    "\n",
    "x = []\n",
    "for g in range(len(aGame)):\n",
    "    todayPlayerList = findPlayerList(aTeam, aGame[g][\"date\"])\n",
    "    singleGame = []\n",
    "    for i in range(len(todayPlayerList)):\n",
    "        singlePlayer = []\n",
    "        for j in range(9):\n",
    "            singlePlayer.append(model.addVar(lb=0, vtype=\"B\", name=\"x\" + str(g) + \"-\" + todayPlayerList[i] + \"-\" + str(j)))\n",
    "        singleGame.append(singlePlayer)\n",
    "    x.append(singleGame)\n",
    "\n",
    "obj = model.addVar(lb = 0, vtype = \"C\", name = \"w\")\n",
    "\n",
    "model.setObjective(obj, gp.GRB.MAXIMIZE)\n",
    "\n",
    "sumAll = 0\n",
    "for g in range(len(aGame)):\n",
    "    todayPlayerList = findPlayerList(aTeam, aGame[g][\"date\"])\n",
    "    for i in range(len(todayPlayerList)):\n",
    "        todayPlayerObject = allData[teamNameMap[aTeam]]\n",
    "        # print(\"today\", todayPlayerList[i])\n",
    "        # for obje in todayPlayerObject:\n",
    "        #     print(obje.name)\n",
    "        thisPlayer = list(filter(lambda d: d.name == todayPlayerList[i], todayPlayerObject))[0]\n",
    "        for j in range(9):\n",
    "            sumAll += OPPONENT_WEIGHT[aGame[g][\"oppo\"]] * calcV(aGame[g], thisPlayer, j) * x[g][i][j]\n",
    "\n",
    "model.addConstr(obj == sumAll)\n",
    "\n",
    "model.optimize()"
   ]
  }
 ],
 "metadata": {
  "interpreter": {
   "hash": "263930470851f494f0ed2879c35b57985588df20f9e529b86e97dd5eb9ddc466"
  },
  "kernelspec": {
   "display_name": "Python 3.8.5 ('base')",
   "language": "python",
   "name": "python3"
  },
  "language_info": {
   "codemirror_mode": {
    "name": "ipython",
    "version": 3
   },
   "file_extension": ".py",
   "mimetype": "text/x-python",
   "name": "python",
   "nbconvert_exporter": "python",
   "pygments_lexer": "ipython3",
   "version": "3.8.5"
  },
  "orig_nbformat": 4
 },
 "nbformat": 4,
 "nbformat_minor": 2
}
